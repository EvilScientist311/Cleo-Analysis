{
 "cells": [
  {
   "cell_type": "code",
   "execution_count": 2,
   "id": "68dfb995-40ae-42e7-9f8f-9d7262da9306",
   "metadata": {},
   "outputs": [],
   "source": [
    "import numpy as np\n",
    "import matplotlib.pyplot as plt\n",
    "import plotly.express as px\n",
    "from scipy import optimize, stats\n",
    "import pandas as pd\n",
    "import sympy as smp\n",
    "import requests\n",
    "from io import StringIO\n",
    "from IPython.display import display, Math, Markdown, HTML\n",
    "pd.set_option('display.max_colwidth', None)"
   ]
  },
  {
   "cell_type": "markdown",
   "id": "65be5379-e918-4492-8071-7a5d5cfd5514",
   "metadata": {},
   "source": [
    "# Gather OP data related to Cleo"
   ]
  },
  {
   "cell_type": "markdown",
   "id": "d384f7d8-6d23-4d65-a7a3-8d43a91894bc",
   "metadata": {},
   "source": [
    "## Import Data on Users Cleo Answered to Using StackExchange API"
   ]
  },
  {
   "cell_type": "code",
   "execution_count": 2,
   "id": "8b3577ba-3282-413f-9b39-ed4cb4477452",
   "metadata": {},
   "outputs": [],
   "source": [
    "cleo_json = requests.get(\"https://api.stackexchange.com/2.2/users/97378/answers?pagesize=100&site=mathematics\")\n",
    "cleo_answers = pd.read_json(StringIO(cleo_json.text))\n",
    "cleo_answers = pd.json_normalize(cleo_answers.loc[:, \"items\"])\n",
    "q_ids = \";\".join([str(i) for i in cleo_answers[\"question_id\"]])\n",
    "questions = requests.get(f\"https://api.stackexchange.com/2.2/questions/{q_ids}?pagesize=100&site=mathematics\")\n",
    "questions_t = pd.read_json(StringIO(questions.text))\n",
    "df_questions = pd.json_normalize(questions_t.loc[:, \"items\"])"
   ]
  },
  {
   "cell_type": "markdown",
   "id": "f95ffe2f-ce91-42be-9a64-540070600b3e",
   "metadata": {},
   "source": [
    "## Clean OP Data"
   ]
  },
  {
   "cell_type": "code",
   "execution_count": 22,
   "id": "2b4312d0-a902-4f47-9154-e5d59479ceb9",
   "metadata": {
    "scrolled": true
   },
   "outputs": [],
   "source": [
    "df_OPall = df_questions[['owner.display_name', 'owner.reputation', 'owner.user_id', 'owner.link']].drop_duplicates()\n",
    "df_OPall.sort_values('owner.reputation', ascending=False, inplace=True)\n",
    "df_OPall.rename(columns={'owner.display_name': 'Username', 'owner.reputation': 'Reputation', 'owner.user_id': 'ID', 'owner.link': 'Profile Link'}, inplace=True, )\n",
    "df_OPall = df_OPall.reset_index(drop=True)\n",
    "\n",
    "cleo_list = [cleo_answers['owner.display_name'][0], cleo_answers['owner.reputation'][0], cleo_answers['owner.user_id'][0], cleo_answers['owner.link'][0]]\n",
    "df_OPall.loc[len(df_OPall)] = cleo_list"
   ]
  },
  {
   "cell_type": "markdown",
   "id": "6aa5d2e4-31a2-438c-8425-546b1bc30fe2",
   "metadata": {},
   "source": [
    "# Import data function"
   ]
  },
  {
   "cell_type": "code",
   "execution_count": 5,
   "id": "8100c44e-3208-4fd9-9762-b5e877363e83",
   "metadata": {},
   "outputs": [],
   "source": [
    "def get_data_by_user_id(ID, type1, type2):\n",
    "    data = []\n",
    "    page = 1\n",
    "    has_more = True\n",
    "\n",
    "    while has_more:\n",
    "        url = f\"https://api.stackexchange.com/2.3/{type1}/{ID}/\" + type2\n",
    "        params = {\n",
    "            \"order\": \"desc\",\n",
    "            \"sort\": \"activity\",\n",
    "            \"site\": \"math\",\n",
    "            \"page\": page,\n",
    "            \"pagesize\": 100 \n",
    "        }\n",
    "        response = requests.get(url, params=params)\n",
    "        response = response.json()\n",
    "\n",
    "        if \"items\" in response:\n",
    "            data.extend(response[\"items\"])\n",
    "            has_more = response[\"has_more\"]\n",
    "            page += 1\n",
    "        else:\n",
    "            has_more = False\n",
    "\n",
    "    return data\n",
    "\n",
    "def get_data(ID, type1, type2):\n",
    "    all_data = []\n",
    "    for ID in ID:\n",
    "        data_tmp = get_data_by_user_id(ID, type1, type2)\n",
    "        all_data.extend(data_tmp)\n",
    "    return all_data"
   ]
  },
  {
   "cell_type": "markdown",
   "id": "4502f617-9801-40a1-a310-cd99a6a38229",
   "metadata": {},
   "source": [
    "# Questions and Answers"
   ]
  },
  {
   "cell_type": "markdown",
   "id": "36e6a572-b481-4fe0-b409-3801f67ce123",
   "metadata": {},
   "source": [
    "## OP Question Data"
   ]
  },
  {
   "cell_type": "code",
   "execution_count": 6,
   "id": "9da1af14-3dbf-431a-a965-0fe7275784f4",
   "metadata": {},
   "outputs": [],
   "source": [
    "# Import data\n",
    "OPquestions = get_data(df_OPall['ID'].tolist(), 'users', 'questions')\n",
    "df_OPquestions = pd.DataFrame(OPquestions)"
   ]
  },
  {
   "cell_type": "code",
   "execution_count": 7,
   "id": "95a83f4b-cebe-42a0-bd71-ed7505a5e47b",
   "metadata": {},
   "outputs": [],
   "source": [
    "# Extract display_name and user_id from the owner column\n",
    "df_OPquestions['owner_display_name'] = df_OPquestions['owner'].apply(lambda x: x.get('display_name') if isinstance(x, dict) else None)\n",
    "df_OPquestions['owner_user_id'] = df_OPquestions['owner'].apply(lambda x: x.get('user_id') if isinstance(x, dict) else None)\n",
    "\n",
    "# Drop the original 'owner' column if not needed\n",
    "df_OPquestions = df_OPquestions.drop(columns=['owner'])\n",
    "df_OPquestions = df_OPquestions[['owner_display_name', 'owner_user_id', 'title', 'creation_date', 'link']]\n",
    "df_OPquestions = df_OPquestions.sort_values(['owner_display_name', 'creation_date'], ascending=[True, False])\n",
    "\n",
    "# Rename columns\n",
    "df_OPquestions.rename(columns={\n",
    "    'owner_display_name': 'Username',\n",
    "    'creation_date': 'Post Date',\n",
    "    'owner_user_id': 'ID',\n",
    "    'title': 'Post Title',\n",
    "    'link': 'Post Link'\n",
    "}, inplace=True)\n",
    "\n",
    "# Convert Unix timestamps to dates\n",
    "df_OPquestions['Post Date'] = pd.to_datetime(df_OPquestions['Post Date'], unit='s').dt.strftime('%d-%m-%Y %H:%M')"
   ]
  },
  {
   "cell_type": "markdown",
   "id": "7730b7fd-86ec-4d64-a13e-536730771e01",
   "metadata": {},
   "source": [
    "## OP Answer Data"
   ]
  },
  {
   "cell_type": "code",
   "execution_count": 10,
   "id": "410b2ae6-e58b-4d68-a32f-911e76ea6812",
   "metadata": {},
   "outputs": [],
   "source": [
    "# Importing Answer data\n",
    "OPanswers = get_data(df_OPall['ID'].tolist(), 'users', 'answers')\n",
    "df_OPanswers_tmp = pd.DataFrame(OPanswers)"
   ]
  },
  {
   "cell_type": "code",
   "execution_count": 17,
   "id": "829dfb29-0a6b-48e2-a59b-3c36af03a0fc",
   "metadata": {},
   "outputs": [],
   "source": [
    "# Extract display_name and user_id from the owner column\n",
    "df_OPanswers = df_OPanswers_tmp\n",
    "df_OPanswers['owner_display_name'] = df_OPanswers['owner'].apply(lambda x: x.get('display_name') if isinstance(x, dict) else None)\n",
    "df_OPanswers['owner_user_id'] = df_OPanswers['owner'].apply(lambda x: x.get('user_id') if isinstance(x, dict) else None)\n",
    "\n",
    "df_OPanswers = df_OPanswers[['owner_display_name', 'owner_user_id', 'answer_id', 'creation_date', 'question_id']]\n",
    "df_OPanswers = df_OPanswers.sort_values(['owner_display_name', 'creation_date'], ascending=[True, False])\n",
    "\n",
    "# Rename columns\n",
    "df_OPanswers.rename(columns={\n",
    "    'owner_display_name': 'Username',\n",
    "    'creation_date': 'Post Date',\n",
    "    'owner_user_id': 'ID',\n",
    "}, inplace=True)\n",
    "\n",
    "# Convert Unix timestamps to dates\n",
    "df_OPanswers['Post Date'] = pd.to_datetime(df_OPanswers['Post Date'], unit='s').dt.strftime('%d-%m-%Y %H:%M')"
   ]
  },
  {
   "cell_type": "markdown",
   "id": "1d207207-9d16-496e-97f6-af0c20a37aa7",
   "metadata": {},
   "source": [
    "## Cleo's Answers"
   ]
  },
  {
   "cell_type": "code",
   "execution_count": 23,
   "id": "937bee82-3cc0-45e8-8b88-05fc50ebfab7",
   "metadata": {},
   "outputs": [],
   "source": [
    "# Create a new DataFrame to avoid modifying a slice of another DataFrame\n",
    "df_CleoAnswers = df_questions[['title', 'owner.display_name', 'creation_date', 'question_id']].copy()\n",
    "\n",
    "# Convert creation_date to desired format and rename the column\n",
    "df_CleoAnswers['Answer Post Date (Cleo)'] = pd.to_datetime(df_CleoAnswers['creation_date'], unit='s').dt.strftime('%d-%m-%Y %H:%M')\n",
    "\n",
    "# Drop the original creation_date column\n",
    "df_CleoAnswers.drop(columns=['creation_date'], inplace=True)\n",
    "\n",
    "# Sort values by question_id\n",
    "df_CleoAnswers.sort_values('question_id', inplace=True)\n",
    "\n",
    "# Add 'Question Post Date' column from df_OPanswers DataFrame\n",
    "df_CleoAnswers['Question Post Date'] = df_OPanswers[df_OPanswers['Username'] == 'Cleo'].sort_values('question_id')['Post Date'].to_list()\n",
    "\n",
    "df_CleoAnswers[['Question Post Date', 'Answer Post Date (Cleo)']] = df_CleoAnswers[['Answer Post Date (Cleo)', 'Question Post Date']].values\n",
    "df_CleoAnswers['question_id'] = df_CleoAnswers['question_id'].apply(lambda x: 'https://math.stackexchange.com/questions/' + str(x))\n",
    "df_CleoAnswers.rename(columns={'owner.display_name': 'Username'}, inplace=True)\n",
    "\n",
    "\n",
    "# Make row with Cleo's interaction count to df_OPall\n",
    "df_OPall = pd.merge(df_OPall, df_CleoAnswers.value_counts('Username'), on='Username')\n",
    "df_OPall.rename(columns={'count': 'Times Cleo Answered'}, inplace=True)"
   ]
  },
  {
   "cell_type": "code",
   "execution_count": 24,
   "id": "e85a9890-54d7-433e-adbb-330c87deb89e",
   "metadata": {},
   "outputs": [
    {
     "data": {
      "text/html": [
       "<div>\n",
       "<style scoped>\n",
       "    .dataframe tbody tr th:only-of-type {\n",
       "        vertical-align: middle;\n",
       "    }\n",
       "\n",
       "    .dataframe tbody tr th {\n",
       "        vertical-align: top;\n",
       "    }\n",
       "\n",
       "    .dataframe thead th {\n",
       "        text-align: right;\n",
       "    }\n",
       "</style>\n",
       "<table border=\"1\" class=\"dataframe\">\n",
       "  <thead>\n",
       "    <tr style=\"text-align: right;\">\n",
       "      <th></th>\n",
       "      <th>Username</th>\n",
       "      <th>Reputation</th>\n",
       "      <th>ID</th>\n",
       "      <th>Profile Link</th>\n",
       "      <th>Times Cleo Answered</th>\n",
       "    </tr>\n",
       "  </thead>\n",
       "  <tbody>\n",
       "    <tr>\n",
       "      <th>0</th>\n",
       "      <td>Lucian</td>\n",
       "      <td>48582</td>\n",
       "      <td>93448</td>\n",
       "      <td>https://math.stackexchange.com/users/93448/lucian</td>\n",
       "      <td>1</td>\n",
       "    </tr>\n",
       "    <tr>\n",
       "      <th>1</th>\n",
       "      <td>Vladimir Reshetnikov</td>\n",
       "      <td>47382</td>\n",
       "      <td>19661</td>\n",
       "      <td>https://math.stackexchange.com/users/19661/vladimir-reshetnikov</td>\n",
       "      <td>4</td>\n",
       "    </tr>\n",
       "    <tr>\n",
       "      <th>2</th>\n",
       "      <td>Tunk-Fey</td>\n",
       "      <td>24979</td>\n",
       "      <td>123277</td>\n",
       "      <td>https://math.stackexchange.com/users/123277/tunk-fey</td>\n",
       "      <td>1</td>\n",
       "    </tr>\n",
       "    <tr>\n",
       "      <th>3</th>\n",
       "      <td>Anastasiya-Romanova 秀</td>\n",
       "      <td>19415</td>\n",
       "      <td>133248</td>\n",
       "      <td>https://math.stackexchange.com/users/133248/anastasiya-romanova-%e7%a7%80</td>\n",
       "      <td>1</td>\n",
       "    </tr>\n",
       "    <tr>\n",
       "      <th>4</th>\n",
       "      <td>Laila Podlesny</td>\n",
       "      <td>13245</td>\n",
       "      <td>76878</td>\n",
       "      <td>https://math.stackexchange.com/users/76878/laila-podlesny</td>\n",
       "      <td>6</td>\n",
       "    </tr>\n",
       "    <tr>\n",
       "      <th>5</th>\n",
       "      <td>user178256</td>\n",
       "      <td>5527</td>\n",
       "      <td>178256</td>\n",
       "      <td>https://math.stackexchange.com/users/178256/user178256</td>\n",
       "      <td>2</td>\n",
       "    </tr>\n",
       "    <tr>\n",
       "      <th>6</th>\n",
       "      <td>Oksana Gimmel</td>\n",
       "      <td>5342</td>\n",
       "      <td>75621</td>\n",
       "      <td>https://math.stackexchange.com/users/75621/oksana-gimmel</td>\n",
       "      <td>3</td>\n",
       "    </tr>\n",
       "    <tr>\n",
       "      <th>7</th>\n",
       "      <td>user1001001</td>\n",
       "      <td>5215</td>\n",
       "      <td>157130</td>\n",
       "      <td>https://math.stackexchange.com/users/157130/user1001001</td>\n",
       "      <td>1</td>\n",
       "    </tr>\n",
       "    <tr>\n",
       "      <th>8</th>\n",
       "      <td>Marty Colos</td>\n",
       "      <td>3330</td>\n",
       "      <td>77543</td>\n",
       "      <td>https://math.stackexchange.com/users/77543/marty-colos</td>\n",
       "      <td>2</td>\n",
       "    </tr>\n",
       "    <tr>\n",
       "      <th>9</th>\n",
       "      <td>Zakharia Stanley</td>\n",
       "      <td>2793</td>\n",
       "      <td>75613</td>\n",
       "      <td>https://math.stackexchange.com/users/75613/zakharia-stanley</td>\n",
       "      <td>1</td>\n",
       "    </tr>\n",
       "    <tr>\n",
       "      <th>10</th>\n",
       "      <td>X.C.</td>\n",
       "      <td>2602</td>\n",
       "      <td>79756</td>\n",
       "      <td>https://math.stackexchange.com/users/79756/x-c</td>\n",
       "      <td>4</td>\n",
       "    </tr>\n",
       "    <tr>\n",
       "      <th>11</th>\n",
       "      <td>Piotr Shatalin</td>\n",
       "      <td>2585</td>\n",
       "      <td>76458</td>\n",
       "      <td>https://math.stackexchange.com/users/76458/piotr-shatalin</td>\n",
       "      <td>3</td>\n",
       "    </tr>\n",
       "    <tr>\n",
       "      <th>12</th>\n",
       "      <td>OlegK</td>\n",
       "      <td>1928</td>\n",
       "      <td>79200</td>\n",
       "      <td>https://math.stackexchange.com/users/79200/olegk</td>\n",
       "      <td>3</td>\n",
       "    </tr>\n",
       "    <tr>\n",
       "      <th>13</th>\n",
       "      <td>Nik Z.</td>\n",
       "      <td>1881</td>\n",
       "      <td>20303</td>\n",
       "      <td>https://math.stackexchange.com/users/20303/nik-z</td>\n",
       "      <td>1</td>\n",
       "    </tr>\n",
       "    <tr>\n",
       "      <th>14</th>\n",
       "      <td>TauMu</td>\n",
       "      <td>1688</td>\n",
       "      <td>78970</td>\n",
       "      <td>https://math.stackexchange.com/users/78970/taumu</td>\n",
       "      <td>1</td>\n",
       "    </tr>\n",
       "    <tr>\n",
       "      <th>15</th>\n",
       "      <td>Liu Jin Tsai</td>\n",
       "      <td>1475</td>\n",
       "      <td>75956</td>\n",
       "      <td>https://math.stackexchange.com/users/75956/liu-jin-tsai</td>\n",
       "      <td>2</td>\n",
       "    </tr>\n",
       "    <tr>\n",
       "      <th>16</th>\n",
       "      <td>xuce1234</td>\n",
       "      <td>1330</td>\n",
       "      <td>182482</td>\n",
       "      <td>https://math.stackexchange.com/users/182482/xuce1234</td>\n",
       "      <td>1</td>\n",
       "    </tr>\n",
       "    <tr>\n",
       "      <th>17</th>\n",
       "      <td>Frida Mauer</td>\n",
       "      <td>1249</td>\n",
       "      <td>109267</td>\n",
       "      <td>https://math.stackexchange.com/users/109267/frida-mauer</td>\n",
       "      <td>1</td>\n",
       "    </tr>\n",
       "    <tr>\n",
       "      <th>18</th>\n",
       "      <td>YMJou</td>\n",
       "      <td>291</td>\n",
       "      <td>82030</td>\n",
       "      <td>https://math.stackexchange.com/users/82030/ymjou</td>\n",
       "      <td>1</td>\n",
       "    </tr>\n",
       "  </tbody>\n",
       "</table>\n",
       "</div>"
      ],
      "text/plain": [
       "                 Username  Reputation      ID  \\\n",
       "0                  Lucian       48582   93448   \n",
       "1    Vladimir Reshetnikov       47382   19661   \n",
       "2                Tunk-Fey       24979  123277   \n",
       "3   Anastasiya-Romanova 秀       19415  133248   \n",
       "4          Laila Podlesny       13245   76878   \n",
       "5              user178256        5527  178256   \n",
       "6           Oksana Gimmel        5342   75621   \n",
       "7             user1001001        5215  157130   \n",
       "8             Marty Colos        3330   77543   \n",
       "9        Zakharia Stanley        2793   75613   \n",
       "10                   X.C.        2602   79756   \n",
       "11         Piotr Shatalin        2585   76458   \n",
       "12                  OlegK        1928   79200   \n",
       "13                 Nik Z.        1881   20303   \n",
       "14                  TauMu        1688   78970   \n",
       "15           Liu Jin Tsai        1475   75956   \n",
       "16               xuce1234        1330  182482   \n",
       "17            Frida Mauer        1249  109267   \n",
       "18                  YMJou         291   82030   \n",
       "\n",
       "                                                                 Profile Link  \\\n",
       "0                           https://math.stackexchange.com/users/93448/lucian   \n",
       "1             https://math.stackexchange.com/users/19661/vladimir-reshetnikov   \n",
       "2                        https://math.stackexchange.com/users/123277/tunk-fey   \n",
       "3   https://math.stackexchange.com/users/133248/anastasiya-romanova-%e7%a7%80   \n",
       "4                   https://math.stackexchange.com/users/76878/laila-podlesny   \n",
       "5                      https://math.stackexchange.com/users/178256/user178256   \n",
       "6                    https://math.stackexchange.com/users/75621/oksana-gimmel   \n",
       "7                     https://math.stackexchange.com/users/157130/user1001001   \n",
       "8                      https://math.stackexchange.com/users/77543/marty-colos   \n",
       "9                 https://math.stackexchange.com/users/75613/zakharia-stanley   \n",
       "10                             https://math.stackexchange.com/users/79756/x-c   \n",
       "11                  https://math.stackexchange.com/users/76458/piotr-shatalin   \n",
       "12                           https://math.stackexchange.com/users/79200/olegk   \n",
       "13                           https://math.stackexchange.com/users/20303/nik-z   \n",
       "14                           https://math.stackexchange.com/users/78970/taumu   \n",
       "15                    https://math.stackexchange.com/users/75956/liu-jin-tsai   \n",
       "16                       https://math.stackexchange.com/users/182482/xuce1234   \n",
       "17                    https://math.stackexchange.com/users/109267/frida-mauer   \n",
       "18                           https://math.stackexchange.com/users/82030/ymjou   \n",
       "\n",
       "    Times Cleo Answered  \n",
       "0                     1  \n",
       "1                     4  \n",
       "2                     1  \n",
       "3                     1  \n",
       "4                     6  \n",
       "5                     2  \n",
       "6                     3  \n",
       "7                     1  \n",
       "8                     2  \n",
       "9                     1  \n",
       "10                    4  \n",
       "11                    3  \n",
       "12                    3  \n",
       "13                    1  \n",
       "14                    1  \n",
       "15                    2  \n",
       "16                    1  \n",
       "17                    1  \n",
       "18                    1  "
      ]
     },
     "execution_count": 24,
     "metadata": {},
     "output_type": "execute_result"
    }
   ],
   "source": [
    "df_OPall"
   ]
  },
  {
   "cell_type": "markdown",
   "id": "fa739bb1-7971-4bf5-8f29-51f5a442f658",
   "metadata": {},
   "source": [
    "# Exporting"
   ]
  },
  {
   "cell_type": "code",
   "execution_count": 25,
   "id": "caac0949-d970-43ca-9d8e-2ed7df781c2a",
   "metadata": {},
   "outputs": [],
   "source": [
    "df_OPanswers.to_csv('df_OPanswers.csv', index=False)\n",
    "df_OPquestions.to_csv('df_OPquestions.csv', index=False)\n",
    "df_OPall.to_csv('df_OPall.csv', index=False)\n",
    "df_CleoAnswers.to_csv('df_CleoAnswers.csv', index=False)"
   ]
  },
  {
   "cell_type": "markdown",
   "id": "0f2cfcbb-b65c-4107-8ca2-a96a07f96112",
   "metadata": {},
   "source": [
    "## Cleo's Comments"
   ]
  },
  {
   "cell_type": "code",
   "execution_count": 4,
   "id": "58d8e278-b176-4758-b317-940ef38a5bae",
   "metadata": {},
   "outputs": [],
   "source": [
    "cleo_json = requests.get(\"https://api.stackexchange.com/2.2/users/97378/comments?pagesize=100&site=mathematics\")\n",
    "cleo_answers = pd.read_json(StringIO(cleo_json.text))\n",
    "cleo_answers = pd.json_normalize(cleo_answers.loc[:, \"items\"])"
   ]
  },
  {
   "cell_type": "code",
   "execution_count": 7,
   "id": "35bcf29b-bd60-4842-bc97-dc7bcf52a6ca",
   "metadata": {},
   "outputs": [
    {
     "data": {
      "text/plain": [
       "[1997423, 1922145, 1230173]"
      ]
     },
     "execution_count": 7,
     "metadata": {},
     "output_type": "execute_result"
    }
   ],
   "source": [
    "cleo_answers['comment_id'].to_list()"
   ]
  },
  {
   "cell_type": "code",
   "execution_count": 11,
   "id": "1a00804a-11bc-4575-a027-e33446773b57",
   "metadata": {},
   "outputs": [
    {
     "data": {
      "text/plain": [
       "[972413, 930011, 577107]"
      ]
     },
     "execution_count": 11,
     "metadata": {},
     "output_type": "execute_result"
    }
   ],
   "source": [
    "cleo_answers['post_id'].to_list()"
   ]
  },
  {
   "cell_type": "code",
   "execution_count": null,
   "id": "dbf16072-8296-4659-b07f-f13317bc4381",
   "metadata": {},
   "outputs": [],
   "source": []
  }
 ],
 "metadata": {
  "kernelspec": {
   "display_name": "Python 3 (ipykernel)",
   "language": "python",
   "name": "python3"
  },
  "language_info": {
   "codemirror_mode": {
    "name": "ipython",
    "version": 3
   },
   "file_extension": ".py",
   "mimetype": "text/x-python",
   "name": "python",
   "nbconvert_exporter": "python",
   "pygments_lexer": "ipython3",
   "version": "3.12.2"
  }
 },
 "nbformat": 4,
 "nbformat_minor": 5
}
